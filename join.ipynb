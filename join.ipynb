{
 "cells": [
  {
   "cell_type": "code",
   "execution_count": 1,
   "metadata": {},
   "outputs": [],
   "source": [
    "import os\n",
    "import csv"
   ]
  },
  {
   "cell_type": "code",
   "execution_count": null,
   "metadata": {},
   "outputs": [],
   "source": [
    "# add rows from annotations_test, annotations_train, and annotations_validation to annotations.csv\n",
    "with open('annotations.csv', 'w') as outfile:\n",
    "    writer = csv.writer(outfile)\n",
    "    for filename in ['annotations_test.csv', 'annotations_train.csv', 'annotations_validation.csv']:\n",
    "        with open(filename) as infile:\n",
    "            reader = csv.reader(infile)\n",
    "            next(reader)  # skip header\n",
    "            for row in reader:\n",
    "                writer.writerow(row)\n",
    "\n",
    "# add rows from images_test, images_train, and images_validation to images.csv\n",
    "with open('images.csv', 'w') as outfile:\n"
   ]
  }
 ],
 "metadata": {
  "kernelspec": {
   "display_name": "Python 3",
   "language": "python",
   "name": "python3"
  },
  "language_info": {
   "codemirror_mode": {
    "name": "ipython",
    "version": 3
   },
   "file_extension": ".py",
   "mimetype": "text/x-python",
   "name": "python",
   "nbconvert_exporter": "python",
   "pygments_lexer": "ipython3",
   "version": "3.8.10"
  },
  "orig_nbformat": 4
 },
 "nbformat": 4,
 "nbformat_minor": 2
}
